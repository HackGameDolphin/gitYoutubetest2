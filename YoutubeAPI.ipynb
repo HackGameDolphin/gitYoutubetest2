{
 "cells": [
  {
   "cell_type": "code",
   "execution_count": 2,
   "metadata": {},
   "outputs": [],
   "source": [
    "import pandas as pd\n",
    "import sqlalchemy\n",
    "from sqlalchemy.orm import sessionmaker\n",
    "import requests\n",
    "import json\n",
    "import sqlite3\n",
    "import datetime\n",
    "import os\n",
    "import pickle\n",
    "import google_auth_oauthlib.flow\n",
    "import googleapiclient.discovery\n",
    "import googleapiclient.errors\n",
    "from google.auth.transport.requests import Request\n",
    "\n",
    "\n"
   ]
  },
  {
   "cell_type": "code",
   "execution_count": 3,
   "metadata": {},
   "outputs": [],
   "source": [
    "DATABASE_LOCATION=\"sqlite:///played_video.sqlite\"\n",
    "USER_ID=\"518849527323-n31vd6jl288oa6a4c53rk8te454epcai.apps.googleusercontent.com\"\n",
    "scopes = [\"https://www.googleapis.com/auth/youtube.readonly\"]"
   ]
  },
  {
   "cell_type": "code",
   "execution_count": 3,
   "metadata": {
    "collapsed": true
   },
   "outputs": [
    {
     "name": "stdout",
     "output_type": "stream",
     "text": [
      "Requirement already satisfied: google-api-python-client in c:\\users\\sofia\\anaconda3\\lib\\site-packages (2.27.0)\n",
      "Requirement already satisfied: google-auth-httplib2>=0.1.0 in c:\\users\\sofia\\anaconda3\\lib\\site-packages (from google-api-python-client) (0.1.0)\n",
      "Requirement already satisfied: httplib2<1dev,>=0.15.0 in c:\\users\\sofia\\anaconda3\\lib\\site-packages (from google-api-python-client) (0.20.1)\n",
      "Requirement already satisfied: google-auth<3.0.0dev,>=1.16.0 in c:\\users\\sofia\\anaconda3\\lib\\site-packages (from google-api-python-client) (2.3.0)\n",
      "Requirement already satisfied: uritemplate<5,>=3.0.0 in c:\\users\\sofia\\anaconda3\\lib\\site-packages (from google-api-python-client) (4.1.1)\n",
      "Requirement already satisfied: google-api-core<3.0.0dev,>=1.21.0 in c:\\users\\sofia\\anaconda3\\lib\\site-packages (from google-api-python-client) (2.1.1)\n",
      "Requirement already satisfied: six in c:\\users\\sofia\\anaconda3\\lib\\site-packages (from google-auth-httplib2>=0.1.0->google-api-python-client) (1.15.0)\n",
      "Requirement already satisfied: pyparsing<3,>=2.4.2 in c:\\users\\sofia\\anaconda3\\lib\\site-packages (from httplib2<1dev,>=0.15.0->google-api-python-client) (2.4.7)\n",
      "Requirement already satisfied: rsa<5,>=3.1.4 in c:\\users\\sofia\\anaconda3\\lib\\site-packages (from google-auth<3.0.0dev,>=1.16.0->google-api-python-client) (4.7.2)\n",
      "Requirement already satisfied: pyasn1-modules>=0.2.1 in c:\\users\\sofia\\anaconda3\\lib\\site-packages (from google-auth<3.0.0dev,>=1.16.0->google-api-python-client) (0.2.8)\n",
      "Requirement already satisfied: cachetools<5.0,>=2.0.0 in c:\\users\\sofia\\anaconda3\\lib\\site-packages (from google-auth<3.0.0dev,>=1.16.0->google-api-python-client) (4.2.4)\n",
      "Requirement already satisfied: setuptools>=40.3.0 in c:\\users\\sofia\\anaconda3\\lib\\site-packages (from google-auth<3.0.0dev,>=1.16.0->google-api-python-client) (49.2.0.post20200714)\n",
      "Requirement already satisfied: requests<3.0.0dev,>=2.18.0 in c:\\users\\sofia\\anaconda3\\lib\\site-packages (from google-api-core<3.0.0dev,>=1.21.0->google-api-python-client) (2.25.1)\n",
      "Requirement already satisfied: protobuf>=3.12.0 in c:\\users\\sofia\\anaconda3\\lib\\site-packages (from google-api-core<3.0.0dev,>=1.21.0->google-api-python-client) (3.15.8)\n",
      "Requirement already satisfied: googleapis-common-protos<2.0dev,>=1.6.0 in c:\\users\\sofia\\anaconda3\\lib\\site-packages (from google-api-core<3.0.0dev,>=1.21.0->google-api-python-client) (1.53.0)\n",
      "Requirement already satisfied: pyasn1>=0.1.3 in c:\\users\\sofia\\anaconda3\\lib\\site-packages (from rsa<5,>=3.1.4->google-auth<3.0.0dev,>=1.16.0->google-api-python-client) (0.4.8)\n",
      "Requirement already satisfied: certifi>=2017.4.17 in c:\\users\\sofia\\anaconda3\\lib\\site-packages (from requests<3.0.0dev,>=2.18.0->google-api-core<3.0.0dev,>=1.21.0->google-api-python-client) (2020.6.20)\n",
      "Requirement already satisfied: idna<3,>=2.5 in c:\\users\\sofia\\anaconda3\\lib\\site-packages (from requests<3.0.0dev,>=2.18.0->google-api-core<3.0.0dev,>=1.21.0->google-api-python-client) (2.10)\n",
      "Requirement already satisfied: chardet<5,>=3.0.2 in c:\\users\\sofia\\anaconda3\\lib\\site-packages (from requests<3.0.0dev,>=2.18.0->google-api-core<3.0.0dev,>=1.21.0->google-api-python-client) (3.0.4)\n",
      "Requirement already satisfied: urllib3<1.27,>=1.21.1 in c:\\users\\sofia\\anaconda3\\lib\\site-packages (from requests<3.0.0dev,>=2.18.0->google-api-core<3.0.0dev,>=1.21.0->google-api-python-client) (1.25.9)\n",
      "Note: you may need to restart the kernel to use updated packages.\n"
     ]
    }
   ],
   "source": [
    "pip install google-api-python-client\n"
   ]
  },
  {
   "cell_type": "code",
   "execution_count": null,
   "metadata": {},
   "outputs": [],
   "source": [
    "pip install google-authl-oauthlib"
   ]
  },
  {
   "cell_type": "markdown",
   "metadata": {},
   "source": [
    "# Projet API Youtube"
   ]
  },
  {
   "cell_type": "markdown",
   "metadata": {},
   "source": [
    "## Processus ETL"
   ]
  },
  {
   "cell_type": "code",
   "execution_count": 4,
   "metadata": {},
   "outputs": [],
   "source": [
    "def check_credentials(cred,client_secrets_file):\n",
    "    credentials=cred\n",
    "    if os.path.exists('token.pickle'):\n",
    "        print('Loading Credentials From File...')\n",
    "        with open('token.pickle', 'rb') as token:\n",
    "            credentials = pickle.load(token)\n",
    "            \n",
    "    if not credentials or not credentials.valid:\n",
    "        \n",
    "        if credentials and credentials.expired and credentials.refresh_token:\n",
    "            print('Refreshing Access Token...')\n",
    "            credentials.refresh(Request())\n",
    "        else :\n",
    "        \n",
    "            flow = google_auth_oauthlib.flow.InstalledAppFlow.from_client_secrets_file(\n",
    "            client_secrets_file, scopes)\n",
    "            credentials = flow.run_console()\n",
    "            print(\"hello\")\n",
    "            with open('token.pickle', 'wb') as f:\n",
    "                print('Saving Credentials for Future Use...')\n",
    "                pickle.dump(credentials, f)\n",
    "  \n",
    "    return credentials"
   ]
  },
  {
   "cell_type": "code",
   "execution_count": 5,
   "metadata": {},
   "outputs": [],
   "source": [
    "def check_valid_data(data) :\n",
    "    if(pd.Series(data[\"New_ID\"]).is_unique) :\n",
    "        pass\n",
    "    else :\n",
    "        raise Exception(\"primary key not unique\")\n",
    "        \n",
    "    if(data.isnull().values.any()):\n",
    "        raise Exception(\"Nulls values\")\n",
    "        \n",
    "    return True"
   ]
  },
  {
   "cell_type": "code",
   "execution_count": 6,
   "metadata": {},
   "outputs": [],
   "source": [
    "def histo():\n",
    "    MyRange= [i for i in range(5,155,10)]\n",
    "    plt.figure(figsize=(9,9),dpi=80)\n",
    "    plt.bar(MyRange,liste_probleme_résolus,width=9,edgecolor=\"black\",color=\"yellow\")\n",
    "    plt.xlabel(\"Therehold en minutes\",fontsize=15)\n",
    "    plt.ylabel(\"Nombre de retards résolus\",fontsize=15)\n",
    "    plt.title(\"Nombre de retards supprimés en fonction du therehold fixé\",fontsize=18)\n",
    "    plt.xticks(MyRange)"
   ]
  },
  {
   "cell_type": "code",
   "execution_count": 17,
   "metadata": {},
   "outputs": [
    {
     "name": "stdout",
     "output_type": "stream",
     "text": [
      "Loading Credentials From File...\n",
      "Refreshing Access Token...\n",
      "\n",
      "\n",
      "les données sont valides\n",
      "<sqlite3.Cursor object at 0x000001D98C03C9D0>\n"
     ]
    },
    {
     "data": {
      "image/png": "[encoded data removed]",
      "text/plain": [
       "<Figure size 432x288 with 1 Axes>"
      ]
     },
     "metadata": {
      "needs_background": "light"
     },
     "output_type": "display_data"
    }
   ],
   "source": [
    "\n",
    "\n",
    "# Sample Python code for youtube.videos.list\n",
    "# See instructions for running these code samples locally:\n",
    "# https://developers.google.com/explorer-help/guides/code_samples#python\n",
    "\n",
    "import os\n",
    "import pickle\n",
    "import google_auth_oauthlib.flow\n",
    "import googleapiclient.discovery\n",
    "import googleapiclient.errors\n",
    "\n",
    "\n",
    "\n",
    "def main():\n",
    "    # Disable OAuthlib's HTTPS verification when running locally.\n",
    "    # *DO NOT* leave this option enabled in production.\n",
    "    os.environ[\"OAUTHLIB_INSECURE_TRANSPORT\"] = \"1\"\n",
    "    credentials=None\n",
    "    api_service_name = \"youtube\"\n",
    "    api_version = \"v3\"\n",
    "    client_secrets_file = \"code_secret_client.json\"\n",
    "\n",
    "    # Get credentials and create an API client\n",
    "\n",
    "    credentials = check_credentials(credentials,client_secrets_file)\n",
    "    youtube = googleapiclient.discovery.build(\n",
    "        api_service_name, api_version, credentials=credentials)\n",
    "\n",
    "    request = youtube.videos().list(\n",
    "        part=\"snippet,contentDetails,statistics\",\n",
    "        myRating=\"like\",\n",
    "        maxResults=\"50\"\n",
    "    )\n",
    "    response = request.execute()\n",
    "    liste = response['items'] \n",
    "    video_id = list()\n",
    "    video_title = list()\n",
    "    video_published_at = list()\n",
    "    video_viewed_at = list()\n",
    "    categorie_id = list()\n",
    "    for video in liste : # on parcours une liste\n",
    "  \n",
    "        for d,v in video['snippet'].items() : # on parcours un dictionnaire  \n",
    "            if( d == 'title'):\n",
    "                video_title.append(v)\n",
    "            if( d == 'publishedAt') :\n",
    "                video_published_at.append(v)\n",
    "            if( d == 'categoryId') :\n",
    "                categorie_id.append(v)\n",
    "           \n",
    "            \n",
    "    dict_videos={\n",
    "        \n",
    "        \"title\" : video_title,\n",
    "        \"publishedAt\" :  video_published_at,\n",
    "        \"categoryId\" :  categorie_id     \n",
    "    }\n",
    "    \n",
    "    video_frame=pd.DataFrame(dict_videos)\n",
    "    video_frame.insert(0, 'New_ID', range(0,len(video_frame)))\n",
    "    \n",
    "    if(check_valid_data(video_frame)):\n",
    "        print(\"\\n\")\n",
    "        print(\"les données sont valides\")\n",
    "   \n",
    "    #Load\n",
    "    engine = sqlalchemy.create_engine(DATABASE_LOCATION)\n",
    "    con = sqlite3.connect(\"played_video.sqlite\")\n",
    "    curs = con.cursor()\n",
    " \n",
    "    video_frame.to_sql(\"my_played_video\",engine,index=False,if_exists='replace')\n",
    "    sql_query=\"\"\"\n",
    "    select * from my_played_video;\"\"\"\n",
    "    print(curs.execute(sql_query))\n",
    "    con.close()\n",
    "    \n",
    "    video_frame.categoryId.value_counts().sort_values().plot(kind = 'barh')\n",
    "if __name__ == \"__main__\":\n",
    "    main()"
   ]
  },
  {
   "cell_type": "code",
   "execution_count": null,
   "metadata": {},
   "outputs": [],
   "source": []
  },
  {
   "cell_type": "code",
   "execution_count": null,
   "metadata": {},
   "outputs": [],
   "source": []
  }
 ],
 "metadata": {
  "kernelspec": {
   "display_name": "Python 3",
   "language": "python",
   "name": "python3"
  },
  "language_info": {
   "codemirror_mode": {
    "name": "ipython",
    "version": 3
   },
   "file_extension": ".py",
   "mimetype": "text/x-python",
   "name": "python",
   "nbconvert_exporter": "python",
   "pygments_lexer": "ipython3",
   "version": "3.8.3"
  }
 },
 "nbformat": 4,
 "nbformat_minor": 4
}
